{
  "cells": [
    {
      "cell_type": "markdown",
      "metadata": {},
      "source": [
        "# Task 1: Data Collection and Preprocessing Exploration\n",
        "\n",
        "This notebook explores the review data for Commercial Bank of Ethiopia (CBE), Bank of Abyssinia (BOA), and Dashen Bank, previously scraped and preprocessed using `scrape_reviews.py` and `preprocess_reviews.py`. It loads existing raw and cleaned CSVs, performs exploratory data analysis (EDA) to validate data quality, and prepares insights for Task 2 (sentiment and thematic analysis).\n",
        "\n",
        "**Objectives**:\n",
        "- Confirm 1,200+ total reviews, 400+ per bank, and <5% missing data.\n",
        "- Inspect rating distributions, review lengths, and data consistency.\n",
        "- Generate visualizations for the interim report.\n",
        "\n",
        "**Note**: Scraping is skipped as raw CSVs already exist in `data/raw/`.\n",
        "\n",
        "**Environment**:\n",
        "- Python: 3.11.9\n",
        "- Libraries: pandas==2.2.3, matplotlib==3.9.2, seaborn==0.13.2"
      ]
    },
    {
      "cell_type": "markdown",
      "metadata": {},
      "source": [
        "## Setup"
      ]
    },
    {
      "cell_type": "code",
      "execution_count": 1,
      "metadata": {},
      "outputs": [
        {
          "name": "stdout",
          "output_type": "stream",
          "text": [
            "pandas version: 2.2.2\n",
            "matplotlib version: 3.9.2\n",
            "seaborn version: 0.13.2\n"
          ]
        }
      ],
      "source": [
        "import pandas as pd\n",
        "import os\n",
        "import matplotlib\n",
        "import matplotlib.pyplot as plt\n",
        "import seaborn as sns\n",
        "\n",
        "# Set plot style using Seaborn\n",
        "sns.set_theme(style='whitegrid')\n",
        "\n",
        "# Define directories\n",
        "os.chdir(\"C:/Users/hp/Desktop/projects/10 Acadamy -KAIM5/Customer-Experience-Analytics-for-Fintech-Apps-from-App-reviews\")\n",
        "RAW_DATA_DIR = \"data/raw\"\n",
        "PROCESSED_DATA_DIR = \"data/processed\"\n",
        "\n",
        "# Verify directories exist\n",
        "if not os.path.exists(RAW_DATA_DIR):\n",
        "    print(f\"Error: {RAW_DATA_DIR} not found. Ensure raw CSVs are present.\")\n",
        "if not os.path.exists(PROCESSED_DATA_DIR):\n",
        "    print(f\"Error: {PROCESSED_DATA_DIR} not found. Ensure cleaned_reviews.csv exists.\")\n",
        "\n",
        "# Check package versions\n",
        "print(f\"pandas version: {pd.__version__}\")\n",
        "print(f\"matplotlib version: {matplotlib.__version__}\")\n",
        "print(f\"seaborn version: {sns.__version__}\")"
      ]
    },
    {
      "cell_type": "markdown",
      "metadata": {},
      "source": [
        "## Load Raw Data"
      ]
    },
    {
      "cell_type": "code",
      "execution_count": 2,
      "metadata": {},
      "outputs": [
        {
          "name": "stdout",
          "output_type": "stream",
          "text": [
            "Loaded 400 reviews from data/raw/commercial_bank_of_ethiopia_reviews_raw.csv\n",
            "Loaded 400 reviews from data/raw/bank_of_abyssinia_reviews_raw.csv\n",
            "Loaded 400 reviews from data/raw/dashen_bank_reviews_raw.csv\n",
            "\n",
            "Total raw reviews: 1200\n",
            "Raw data info:\n",
            "<class 'pandas.core.frame.DataFrame'>\n",
            "RangeIndex: 1200 entries, 0 to 1199\n",
            "Data columns (total 5 columns):\n",
            " #   Column  Non-Null Count  Dtype \n",
            "---  ------  --------------  ----- \n",
            " 0   bank    1200 non-null   object\n",
            " 1   review  1200 non-null   object\n",
            " 2   rating  1200 non-null   int64 \n",
            " 3   date    1200 non-null   object\n",
            " 4   source  1200 non-null   object\n",
            "dtypes: int64(1), object(4)\n",
            "memory usage: 47.0+ KB\n",
            "None\n",
            "\n",
            "Missing values in raw data:\n",
            "bank      0\n",
            "review    0\n",
            "rating    0\n",
            "date      0\n",
            "source    0\n",
            "dtype: int64\n",
            "\n",
            "Reviews per bank:\n",
            "bank\n",
            "Bank of Abyssinia              400\n",
            "Commercial Bank of Ethiopia    400\n",
            "Dashen Bank                    400\n",
            "dtype: int64\n"
          ]
        }
      ],
      "source": [
        "# List of raw CSV files\n",
        "bank_files = [\n",
        "    f\"{RAW_DATA_DIR}/{bank}_reviews_raw.csv\"\n",
        "    for bank in [\n",
        "        \"commercial_bank_of_ethiopia\",\n",
        "        \"bank_of_abyssinia\",\n",
        "        \"dashen_bank\"\n",
        "    ]\n",
        "]\n",
        "\n",
        "# Load raw CSVs\n",
        "raw_dfs = []\n",
        "for file in bank_files:\n",
        "    if os.path.exists(file):\n",
        "        df = pd.read_csv(file)\n",
        "        print(f\"Loaded {len(df)} reviews from {file}\")\n",
        "        raw_dfs.append(df)\n",
        "    else:\n",
        "        print(f\"Warning: {file} not found\")\n",
        "\n",
        "# Combine raw data\n",
        "if raw_dfs:\n",
        "    df_raw = pd.concat(raw_dfs, ignore_index=True)\n",
        "    print(f\"\\nTotal raw reviews: {len(df_raw)}\")\n",
        "    print(\"Raw data info:\")\n",
        "    print(df_raw.info())\n",
        "    print(\"\\nMissing values in raw data:\")\n",
        "    print(df_raw.isnull().sum())\n",
        "    print(\"\\nReviews per bank:\")\n",
        "    print(df_raw.groupby('bank').size())\n",
        "else:\n",
        "    print(\"Error: No raw CSVs loaded. Run scrape_reviews.py first.\")"
      ]
    },
    {
      "cell_type": "markdown",
      "metadata": {},
      "source": [
        "## Load Cleaned Data"
      ]
    },
    {
      "cell_type": "code",
      "execution_count": 3,
      "metadata": {},
      "outputs": [
        {
          "name": "stdout",
          "output_type": "stream",
          "text": [
            "Loaded 1200 reviews from data/processed/cleaned_reviews.csv\n",
            "Cleaned data info:\n",
            "<class 'pandas.core.frame.DataFrame'>\n",
            "RangeIndex: 1200 entries, 0 to 1199\n",
            "Data columns (total 5 columns):\n",
            " #   Column  Non-Null Count  Dtype \n",
            "---  ------  --------------  ----- \n",
            " 0   bank    1200 non-null   object\n",
            " 1   review  1200 non-null   object\n",
            " 2   rating  1200 non-null   int64 \n",
            " 3   date    1200 non-null   object\n",
            " 4   source  1200 non-null   object\n",
            "dtypes: int64(1), object(4)\n",
            "memory usage: 47.0+ KB\n",
            "None\n",
            "\n",
            "Missing values in cleaned data:\n",
            "bank      0\n",
            "review    0\n",
            "rating    0\n",
            "date      0\n",
            "source    0\n",
            "dtype: int64\n",
            "\n",
            "Reviews per bank:\n",
            "bank\n",
            "Bank of Abyssinia              400\n",
            "Commercial Bank of Ethiopia    400\n",
            "Dashen Bank                    400\n",
            "dtype: int64\n"
          ]
        }
      ],
      "source": [
        "# Load cleaned CSV\n",
        "cleaned_file = f\"{PROCESSED_DATA_DIR}/cleaned_reviews.csv\"\n",
        "if os.path.exists(cleaned_file):\n",
        "    df_cleaned = pd.read_csv(cleaned_file)\n",
        "    print(f\"Loaded {len(df_cleaned)} reviews from {cleaned_file}\")\n",
        "    print(\"Cleaned data info:\")\n",
        "    print(df_cleaned.info())\n",
        "    print(\"\\nMissing values in cleaned data:\")\n",
        "    print(df_cleaned.isnull().sum())\n",
        "    print(\"\\nReviews per bank:\")\n",
        "    print(df_cleaned.groupby('bank').size())\n",
        "else:\n",
        "    print(f\"Error: {cleaned_file} not found. Run preprocess_reviews.py first.\")"
      ]
    },
    {
      "cell_type": "markdown",
      "metadata": {},
      "source": [
        "## Validate Data Quality"
      ]
    },
    {
      "cell_type": "code",
      "execution_count": 5,
      "metadata": {},
      "outputs": [
        {
          "name": "stdout",
          "output_type": "stream",
          "text": [
            "Total reviews: 1200 (Expected: 1,200+)\n",
            "Reviews per bank (Expected: 400+ each):\n",
            "bank\n",
            "Bank of Abyssinia              400\n",
            "Commercial Bank of Ethiopia    400\n",
            "Dashen Bank                    400\n",
            "dtype: int64\n",
            "Missing data rate: 0.00% (Expected: <5%)\n",
            "Columns present: ['bank', 'review', 'rating', 'date', 'source'] (Expected: ['bank', 'review', 'rating', 'date', 'source'])\n",
            "All ratings are valid (1–5)\n",
            "All dates are in YYYY-MM-DD format\n"
          ]
        }
      ],
      "source": [
        "# Check Task 1 KPIs\n",
        "if 'df_cleaned' in locals():\n",
        "    total_reviews = len(df_cleaned)\n",
        "    reviews_per_bank = df_cleaned.groupby('bank').size()\n",
        "    missing_data_rate = df_cleaned.isnull().sum().sum() / (total_reviews * len(df_cleaned.columns))\n",
        "    expected_columns = ['bank', 'review', 'rating', 'date', 'source']\n",
        "\n",
        "    print(f\"Total reviews: {total_reviews} (Expected: 1,200+)\")\n",
        "    print(f\"Reviews per bank (Expected: 400+ each):\")\n",
        "    print(reviews_per_bank)\n",
        "    print(f\"Missing data rate: {missing_data_rate:.2%} (Expected: <5%)\")\n",
        "    print(f\"Columns present: {df_cleaned.columns.tolist()} (Expected: {expected_columns})\")\n",
        "\n",
        "    # Verify ratings\n",
        "    if df_cleaned['rating'].between(1, 5).all():\n",
        "        print(\"All ratings are valid (1–5)\")\n",
        "    else:\n",
        "        print(\"Warning: Invalid ratings found:\", df_cleaned['rating'].unique())\n",
        "\n",
        "    # Verify date format (YYYY-MM-DD)\n",
        "    date_format_valid = df_cleaned['date'].str.match(r'^\\d{4}-\\d{2}-\\d{2}$').all()\n",
        "    if date_format_valid:\n",
        "        print(\"All dates are in YYYY-MM-DD format\")\n",
        "    else:\n",
        "        print(\"Warning: Invalid date formats found:\", df_cleaned['date'].unique()[:5])\n",
        "else:\n",
        "    print(\"Cannot validate KPIs: Cleaned data not loaded.\")"
      ]
    },
    {
      "cell_type": "markdown",
      "metadata": {},
      "source": [
        "## Exploratory Data Analysis (EDA)"
      ]
    },
    {
      "cell_type": "code",
      "execution_count": 13,
      "metadata": {},
      "outputs": [
        {
          "data": {
            "image/png": "[encoded data removed]",
            "text/plain": [
              "<Figure size 800x500 with 1 Axes>"
            ]
          },
          "metadata": {},
          "output_type": "display_data"
        },
        {
          "name": "stdout",
          "output_type": "stream",
          "text": [
            "\n",
            "Average rating per bank:\n",
            "bank\n",
            "Bank of Abyssinia              3.0825\n",
            "Commercial Bank of Ethiopia    4.2375\n",
            "Dashen Bank                    4.4350\n",
            "Name: rating, dtype: float64\n"
          ]
        },
        {
          "data": {
            "image/png": "[encoded data removed]",
            "text/plain": [
              "<Figure size 800x500 with 1 Axes>"
            ]
          },
          "metadata": {},
          "output_type": "display_data"
        }
      ],
      "source": [
        "# Rating distribution (overall)\n",
        "if 'df_cleaned' in locals():\n",
        "    plt.figure(figsize=(8, 5))\n",
        "    sns.histplot(df_cleaned['rating'], bins=5, discrete=True)\n",
        "    plt.title('Overall Rating Distribution')\n",
        "    plt.xlabel('Rating')\n",
        "    plt.ylabel('Count')\n",
        "    plt.savefig('figures/rating_distribution.png')\n",
        "    plt.show()\n",
        "\n",
        "    # Average rating per bank\n",
        "    avg_ratings = df_cleaned.groupby('bank')['rating'].mean()\n",
        "    print(\"\\nAverage rating per bank:\")\n",
        "    print(avg_ratings)\n",
        "\n",
        "    # Plot average ratings\n",
        "    plt.figure(figsize=(8, 5))\n",
        "    avg_ratings.plot(kind='bar', color='skyblue')\n",
        "    plt.title('Average Rating per Bank')\n",
        "    plt.xlabel('Bank')\n",
        "    plt.ylabel('Average Rating')\n",
        "    plt.xticks(rotation=360)\n",
        "    plt.savefig('figures/avg_rating_per_bank.png')\n",
        "    plt.show()"
      ]
    },
    {
      "cell_type": "code",
      "execution_count": 14,
      "metadata": {},
      "outputs": [
        {
          "name": "stdout",
          "output_type": "stream",
          "text": [
            "\n",
            "Average review length per bank:\n",
            "bank\n",
            "Bank of Abyssinia              58.3900\n",
            "Commercial Bank of Ethiopia    36.1225\n",
            "Dashen Bank                    79.0075\n",
            "Name: review_length, dtype: float64\n"
          ]
        },
        {
          "data": {
            "image/png": "[encoded data removed]",
            "text/plain": [
              "<Figure size 800x500 with 1 Axes>"
            ]
          },
          "metadata": {},
          "output_type": "display_data"
        },
        {
          "name": "stdout",
          "output_type": "stream",
          "text": [
            "Empty reviews: 0\n",
            "Short reviews (<10 characters): 383\n",
            "Sample short reviews:\n",
            "                          bank     review  rating\n",
            "0  Commercial Bank of Ethiopia         👌👍       5\n",
            "1  Commercial Bank of Ethiopia  very niec       5\n",
            "3  Commercial Bank of Ethiopia   yetemeta       1\n",
            "5  Commercial Bank of Ethiopia       good       5\n",
            "7  Commercial Bank of Ethiopia  NICE bank       5\n"
          ]
        }
      ],
      "source": [
        "# Review length analysis\n",
        "if 'df_cleaned' in locals():\n",
        "    df_cleaned['review_length'] = df_cleaned['review'].str.len()\n",
        "    print(\"\\nAverage review length per bank:\")\n",
        "    print(df_cleaned.groupby('bank')['review_length'].mean())\n",
        "\n",
        "    # Plot review length distribution\n",
        "    plt.figure(figsize=(8, 5))\n",
        "    sns.histplot(df_cleaned['review_length'], bins=30, color='coral')\n",
        "    plt.title('Review Length Distribution')\n",
        "    plt.xlabel('Review Length (Characters)')\n",
        "    plt.ylabel('Count')\n",
        "    plt.savefig('figures/review_length_distribution.png')\n",
        "    plt.show()\n",
        "\n",
        "    # Check for empty or very short reviews\n",
        "    empty_reviews = df_cleaned[df_cleaned['review'].str.strip().eq('')]\n",
        "    short_reviews = df_cleaned[df_cleaned['review_length'] < 10]\n",
        "    print(f\"Empty reviews: {len(empty_reviews)}\")\n",
        "    print(f\"Short reviews (<10 characters): {len(short_reviews)}\")\n",
        "    if len(short_reviews) > 0:\n",
        "        print(\"Sample short reviews:\")\n",
        "        print(short_reviews[['bank', 'review', 'rating']].head())"
      ]
    },
    {
      "cell_type": "code",
      "execution_count": 15,
      "metadata": {},
      "outputs": [
        {
          "name": "stdout",
          "output_type": "stream",
          "text": [
            "\n",
            "Sample reviews per bank:\n",
            "\n",
            "Commercial Bank of Ethiopia:\n",
            "                review  rating\n",
            "0                   👌👍       5\n",
            "1            very niec       5\n",
            "2  best app of finance       5\n",
            "\n",
            "Bank of Abyssinia:\n",
            "                                                review  rating\n",
            "400  Hello, I’m facing a problem with the BOA Mobil...       1\n",
            "401                                        exceptional       5\n",
            "402                               BoA Mobile good bank       5\n",
            "\n",
            "Dashen Bank:\n",
            "    review  rating\n",
            "800   መቸሸጠ       5\n",
            "801    wow       5\n",
            "802  gadaa       5\n"
          ]
        }
      ],
      "source": [
        "# Sample reviews for inspection\n",
        "if 'df_cleaned' in locals():\n",
        "    print(\"\\nSample reviews per bank:\")\n",
        "    for bank in df_cleaned['bank'].unique():\n",
        "        print(f\"\\n{bank}:\")\n",
        "        sample = df_cleaned[df_cleaned['bank'] == bank][['review', 'rating']].head(3)\n",
        "        print(sample)"
      ]
    },
    {
      "cell_type": "markdown",
      "metadata": {},
      "source": [
        "## Insights for Task 2"
      ]
    },
    {
      "cell_type": "markdown",
      "metadata": {},
      "source": [
        "**Observations**:\n",
        "- Review counts and missing data meet Task 1 KPIs (1,200+ total, 400+ per bank, <5% missing data).\n",
        "- Rating distributions indicate [e.g., most reviews are positive; adjust based on output].\n",
        "- Review lengths suggest [e.g., most reviews are short; adjust based on output], which may impact sentiment analysis accuracy.\n",
        "- Empty or short reviews, if present, may require filtering in Task 2 preprocessing.\n",
        "\n",
        "**Next Steps**:\n",
        "- Use `cleaned_reviews.csv` for sentiment analysis with `vaderSentiment` or `TextBlob`.\n",
        "- Preprocess reviews for thematic analysis (e.g., remove stopwords, tokenize) using `nltk` or `gensim`.\n",
        "- Consider setting a minimum review length threshold (e.g., 10 characters) for Task 2."
      ]
    }
  ],
  "metadata": {
    "kernelspec": {
      "display_name": "Python 3",
      "language": "python",
      "name": "python3"
    },
    "language_info": {
      "codemirror_mode": {
        "name": "ipython",
        "version": 3
      },
      "file_extension": ".py",
      "mimetype": "text/x-python",
      "name": "python",
      "nbconvert_exporter": "python",
      "pygments_lexer": "ipython3",
      "version": "3.11.9"
    }
  },
  "nbformat": 4,
  "nbformat_minor": 4
}
